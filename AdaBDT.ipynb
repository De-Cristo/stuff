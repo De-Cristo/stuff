{
 "cells": [
  {
   "cell_type": "markdown",
   "metadata": {},
   "source": [
    "**Import libs**"
   ]
  },
  {
   "cell_type": "code",
   "execution_count": 1,
   "metadata": {},
   "outputs": [
    {
     "name": "stdout",
     "output_type": "stream",
     "text": [
      "Welcome to JupyROOT 6.18/00\n"
     ]
    }
   ],
   "source": [
    "%matplotlib inline\n",
    "\n",
    "import random\n",
    "\n",
    "import pandas as pd\n",
    "import numpy as np\n",
    "import matplotlib as mpl\n",
    "import matplotlib.pyplot as plt\n",
    "import pickle as pl\n",
    "\n",
    "from sklearn import datasets\n",
    "from sklearn.tree import DecisionTreeClassifier\n",
    "from sklearn.ensemble import AdaBoostClassifier\n",
    "from sklearn.metrics import classification_report, roc_auc_score, accuracy_score\n",
    "from sklearn.model_selection import train_test_split\n",
    "\n",
    "from root_numpy import root2array, rec2array, array2root"
   ]
  },
  {
   "cell_type": "markdown",
   "metadata": {},
   "source": [
    "**Define function to get weights for arbitrary couplings**"
   ]
  },
  {
   "cell_type": "code",
   "execution_count": 2,
   "metadata": {},
   "outputs": [
    {
     "name": "stdout",
     "output_type": "stream",
     "text": [
      "--------------------------- print CrossSec0:\n",
      "[0.0008095 0.0013204 0.000285  0.0021291 0.0005371 0.001745 ]\n",
      "--------------------------- print Coupling0:\n",
      "[[1.     1.     1.     1.     1.     1.    ]\n",
      " [4.     1.     1.     2.     2.     1.    ]\n",
      " [1.     1.     0.     1.     0.     0.    ]\n",
      " [1.     1.     4.     1.     2.     2.    ]\n",
      " [0.25   0.0625 1.     0.125  0.5    0.25  ]\n",
      " [2.25   5.0625 1.     3.375  1.5    2.25  ]]\n",
      "--------------------------- print CouplingInv0:\n",
      "[[-3.55555556e+00  8.88888889e-01 -5.55555556e-01  1.11111111e+00\n",
      "  -2.22222222e+00  4.44444444e-01]\n",
      " [-3.11111111e+00  4.44444444e-01 -1.11111111e+00  2.22222222e-01\n",
      "   8.88888889e-01  8.88888889e-01]\n",
      " [-1.00000000e+00 -1.20772136e-16  5.00000000e-01  5.00000000e-01\n",
      "   1.23036614e-15 -4.52895511e-17]\n",
      " [ 6.66666667e+00 -1.33333333e+00  2.66666667e+00 -1.33333333e+00\n",
      "   1.33333333e+00 -1.33333333e+00]\n",
      " [ 3.00000000e+00 -3.33333333e-01 -1.00000000e+00 -2.00000000e+00\n",
      "   5.33333333e+00  2.03540888e-16]\n",
      " [-1.00000000e+00  3.33333333e-01 -5.00000000e-01  1.50000000e+00\n",
      "  -5.33333333e+00 -9.25185854e-17]]\n",
      "---------------------------- print Matrix ele:\n",
      "[[ 8.4800e-05  2.5340e-04  3.9755e-04 -5.3200e-05  3.0970e-04 -1.8275e-04]]\n"
     ]
    }
   ],
   "source": [
    "#intro https://indico.cern.ch/event/904966/contributions/3832774/attachments/2023843/3384862/HH_combine_model_21Apr2018.pdf\n",
    "def convert_coupling_diagramweight(coupling_nx3):\n",
    "    # coupling_nx3 is (cv, c2v, kl)\n",
    "    nrow=len(coupling_nx3[:,0])\n",
    "    cv = coupling_nx3[:,0].reshape(nrow,1)\n",
    "    c2v = coupling_nx3[:,1].reshape(nrow,1)\n",
    "    kl = coupling_nx3[:,2].reshape(nrow,1)\n",
    "    weights = np.matrix(np.zeros(nrow*6).reshape((nrow,6)),dtype=np.float64)\n",
    "    weights[:,0] = np.power(np.multiply(cv,kl),2)\n",
    "    weights[:,1] = np.power(cv,4)\n",
    "    weights[:,2] = np.power(c2v,2)\n",
    "    weights[:,3] = np.multiply(np.power(cv,3),kl)\n",
    "    weights[:,4] = np.multiply(np.multiply(cv,c2v),kl)\n",
    "    weights[:,5] = np.multiply(np.power(cv,2),c2v)\n",
    "    return weights\n",
    "\n",
    "CrossSec0 = np.array([0.0008095, 0.0013204, 0.000285, 0.0021291, 0.0005371, 0.001745])\n",
    "#(cv, c2v, kl)\n",
    "listOfCouplings0 = np.array([[1,1,1],[1,1,2],[1,0,1],[1,2,1],[0.5,1,1],[1.5,1,1]])\n",
    "\n",
    "print(\"--------------------------- print CrossSec0:\")\n",
    "print(CrossSec0)\n",
    "\n",
    "Coupling0 = convert_coupling_diagramweight(listOfCouplings0)\n",
    "CouplingInv0=np.linalg.inv(Coupling0)\n",
    "print(\"--------------------------- print Coupling0:\")\n",
    "print(Coupling0)\n",
    "print(\"--------------------------- print CouplingInv0:\")\n",
    "print(CouplingInv0)\n",
    "\n",
    "matrix_ele = np.matmul(CouplingInv0, CrossSec0)\n",
    "print(\"---------------------------- print Matrix ele:\")\n",
    "print(matrix_ele)"
   ]
  },
  {
   "cell_type": "code",
   "execution_count": 128,
   "metadata": {},
   "outputs": [
    {
     "name": "stdout",
     "output_type": "stream",
     "text": [
      "---------------------------- print composition of the samples:\n",
      "[[-1234.      323.     -190.      380.     -760.      152.   ]\n",
      " [   -5.111     0.778    -1.111     2.222    -4.444     0.889]]\n",
      "---------------------------- print new Xsec:\n",
      "[[0.04]\n",
      " [0.  ]]\n"
     ]
    }
   ],
   "source": [
    "\n",
    "listOfNewCouplings = np.array([[1,1,20],[1,1,0]])\n",
    "NewCoupling = convert_coupling_diagramweight(listOfNewCouplings)\n",
    "print(\"---------------------------- print composition of the samples:\")\n",
    "composition = np.matmul(NewCoupling, CouplingInv0)\n",
    "np.set_printoptions(precision=3,suppress=True)\n",
    "#composition = np.array([[-1234. ,  323.,  -190. ,  380. , -760.,   152.],[  -80.,    -0.  ,  36.,    45. ,    0. ,   -0.]])\n",
    "print(composition)\n",
    "\n",
    "newXsec = np.matmul(NewCoupling,matrix_ele.reshape(6,1))\n",
    "print(\"---------------------------- print new Xsec:\")\n",
    "print(newXsec)\n"
   ]
  },
  {
   "cell_type": "markdown",
   "metadata": {},
   "source": [
    "**Prepare dataset**"
   ]
  },
  {
   "cell_type": "code",
   "execution_count": 129,
   "metadata": {},
   "outputs": [],
   "source": [
    "import ROOT as R"
   ]
  },
  {
   "cell_type": "code",
   "execution_count": 130,
   "metadata": {},
   "outputs": [],
   "source": [
    "\n",
    "#f = R.TFile(\"c2v_kl_bdt/CV_0_5_C2V_1_0_C3_1_0_cut.root\")\n",
    "#tree = f.Get('Events')\n",
    "#tree.Print()"
   ]
  },
  {
   "cell_type": "code",
   "execution_count": 131,
   "metadata": {},
   "outputs": [
    {
     "name": "stdout",
     "output_type": "stream",
     "text": [
      "['VHH_H1_phi', 'VHH_H2_phi', 'selLeptons_phi_0']\n"
     ]
    }
   ],
   "source": [
    "#[1,1,1],[1,1,2],[1,0,1],[1,2,1],[0.5,1,1],[1.5,1,1]\n",
    "\n",
    "filelist = {\n",
    "    '1_1_1': 'c2v_kl_bdt/CV_1_0_C2V_1_0_C3_1_0_cut.root',\n",
    "    '1_1_2': 'c2v_kl_bdt/CV_1_0_C2V_1_0_C3_2_0_cut.root',\n",
    "    '1_0_1': 'c2v_kl_bdt/CV_1_0_C2V_0_0_C3_1_0_cut.root',\n",
    "    '1_2_1': 'c2v_kl_bdt/CV_1_0_C2V_2_0_C3_1_0_cut.root',\n",
    "    '0.5_1_1': 'c2v_kl_bdt/CV_0_5_C2V_1_0_C3_1_0_cut.root',\n",
    "    '1.5_1_1': 'c2v_kl_bdt/CV_1_5_C2V_1_0_C3_1_0_cut.root',\n",
    "}\n",
    "order = {\n",
    "    '1_1_1': 0,\n",
    "    '1_1_2': 1,\n",
    "    '1_0_1': 2,\n",
    "    '1_2_1': 3,\n",
    "    '0.5_1_1': 4,\n",
    "    '1.5_1_1': 5,\n",
    "}\n",
    "\n",
    "branch_names = \"\"\"VHH_H1_phi, VHH_H2_phi, selLeptons_phi_0\"\"\".split(\",\")\n",
    "branch_names = [c.strip() for c in branch_names]\n",
    "branch_names = (b.replace(\" \", \"_\") for b in branch_names)\n",
    "branch_names = list(b.replace(\"-\", \"_\") for b in branch_names)\n",
    "\n",
    "print(branch_names)"
   ]
  },
  {
   "cell_type": "code",
   "execution_count": 132,
   "metadata": {},
   "outputs": [
    {
     "name": "stdout",
     "output_type": "stream",
     "text": [
      "1_1_1\n",
      "signal: (2016, 3)\n",
      "[ 2.58   2.066 -0.923]\n",
      "weight:  -1233.9999999999993 -5.111111111111108\n",
      "1_1_2\n",
      "signal: (2232, 3)\n",
      "[-1.293 -0.644 -2.727]\n",
      "weight:  322.9999999999999 0.7777777777777772\n",
      "1_0_1\n",
      "signal: (2414, 3)\n",
      "[ 0.574 -0.868 -2.959]\n",
      "weight:  -189.99999999999994 -1.1111111111111112\n",
      "1_2_1\n",
      "signal: (2467, 3)\n",
      "[-0.657  3.029  2.382]\n",
      "weight:  379.9999999999995 2.2222222222222197\n",
      "0.5_1_1\n",
      "signal: (2740, 3)\n",
      "[ 1.827 -1.797 -0.057]\n",
      "weight:  -759.9999999999989 -4.444444444444439\n",
      "1.5_1_1\n",
      "signal: (1074, 3)\n",
      "[ 0.833 -1.844 -1.949]\n",
      "weight:  151.99999999999994 0.8888888888888887\n"
     ]
    }
   ],
   "source": [
    "kl_sample=[]\n",
    "\n",
    "for i in filelist:\n",
    "    print(i)\n",
    "    signal = root2array(filelist[i],\n",
    "                    \"Events\",\n",
    "                    branch_names)\n",
    "    signal = signal[0:int(len(signal)*0.01)] #only use 1% for demo\n",
    "    signal = rec2array(signal)\n",
    "    print(\"signal:\",np.shape(signal))\n",
    "    print(signal[0])\n",
    "    print(\"weight: \",composition[0,order[i]], composition[1,order[i]])\n",
    "    if len(kl_sample) == 0:\n",
    "        kl_sample = signal\n",
    "        kl_sample_weight=np.ones(signal.shape[0])*composition[0,order[i]]\n",
    "        c2v_sample = signal\n",
    "        c2v_sample_weight=np.ones(signal.shape[0])*composition[1,order[i]]\n",
    "    else:    \n",
    "        kl_sample = np.concatenate((kl_sample, signal))\n",
    "        kl_sample_weight = np.concatenate((kl_sample_weight, np.ones(signal.shape[0])*composition[0,order[i]]))\n",
    "        c2v_sample = np.concatenate((c2v_sample, signal))\n",
    "        c2v_sample_weight = np.concatenate((c2v_sample_weight, np.ones(signal.shape[0])*composition[1,order[i]]))\n",
    "\n",
    "    #print(\"kl_sample:\", np.shape(kl_sample))\n",
    "    #print(kl_sample[0])\n",
    "    #print(\"kl_sample_weight:\", np.shape(kl_sample_weight))\n",
    "    #print(kl_sample_weight[0])\n",
    "    #print(\"c2v_sample:\",np.shape(c2v_sample))\n",
    "    #print(c2v_sample[0])\n",
    "    #print(\"c2v_sample_weight:\",np.shape(c2v_sample_weight))\n",
    "    #print(c2v_sample_weight[0])"
   ]
  },
  {
   "cell_type": "code",
   "execution_count": 134,
   "metadata": {},
   "outputs": [
    {
     "name": "stdout",
     "output_type": "stream",
     "text": [
      "(25886, 3)\n",
      "[[ 2.58   2.066 -0.923]\n",
      " [-0.792  2.229 -0.923]\n",
      " [-1.47   2.532  2.152]\n",
      " ...\n",
      " [-1.973 -0.533  1.994]\n",
      " [ 1.841 -2.524  1.994]\n",
      " [ 1.839 -2.118 -1.118]]\n",
      "(25886,)\n",
      "[1. 1. 1. ... 0. 0. 0.]\n",
      "(25886,)\n",
      "[-1234.    -1234.    -1234.    ...     0.889     0.889     0.889]\n"
     ]
    }
   ],
   "source": [
    "\n",
    "X = np.concatenate((kl_sample, c2v_sample))\n",
    "y = np.concatenate((np.ones(kl_sample.shape[0]), np.zeros(c2v_sample.shape[0])))\n",
    "z = np.concatenate((kl_sample_weight, c2v_sample_weight))\n",
    "print(np.shape(X))\n",
    "print(X)\n",
    "print(np.shape(y))\n",
    "print(y)\n",
    "print(np.shape(z))\n",
    "print(z)"
   ]
  },
  {
   "cell_type": "markdown",
   "metadata": {},
   "source": [
    "**Train BDT**"
   ]
  },
  {
   "cell_type": "code",
   "execution_count": 135,
   "metadata": {},
   "outputs": [
    {
     "data": {
      "text/plain": [
       "AdaBoostClassifier(algorithm='SAMME',\n",
       "                   base_estimator=DecisionTreeClassifier(class_weight=None,\n",
       "                                                         criterion='gini',\n",
       "                                                         max_depth=4,\n",
       "                                                         max_features=None,\n",
       "                                                         max_leaf_nodes=None,\n",
       "                                                         min_impurity_decrease=0.0,\n",
       "                                                         min_impurity_split=None,\n",
       "                                                         min_samples_leaf=0.05,\n",
       "                                                         min_samples_split=2,\n",
       "                                                         min_weight_fraction_leaf=0.0,\n",
       "                                                         presort=False,\n",
       "                                                         random_state=True,\n",
       "                                                         splitter='best'),\n",
       "                   learning_rate=0.5, n_estimators=500, random_state=None)"
      ]
     },
     "execution_count": 135,
     "metadata": {},
     "output_type": "execute_result"
    }
   ],
   "source": [
    "#X_dev,X_eval, y_dev,y_eval = train_test_split(X, y, test_size=0.33, random_state=42)\n",
    "X_train,X_test, y_train,y_test,z_train,z_test = train_test_split(X, y, z, test_size=0.33, random_state=492)\n",
    "\n",
    "dt = DecisionTreeClassifier(max_depth=4, min_samples_leaf=0.05, random_state=True)\n",
    "bdt = AdaBoostClassifier(dt,\n",
    "                         algorithm='SAMME',\n",
    "                         n_estimators=500,\n",
    "                         learning_rate=0.5)\n",
    "\n",
    "bdt.fit(X_train, y_train, z_train)"
   ]
  },
  {
   "cell_type": "markdown",
   "metadata": {},
   "source": [
    "**Performance checks**"
   ]
  },
  {
   "cell_type": "code",
   "execution_count": 136,
   "metadata": {},
   "outputs": [
    {
     "name": "stdout",
     "output_type": "stream",
     "text": [
      "On testing sample:\n"
     ]
    },
    {
     "name": "stderr",
     "output_type": "stream",
     "text": [
      "/cvmfs/sft.cern.ch/lcg/views/LCG_96python3/x86_64-centos7-gcc8-opt/lib/python3.6/site-packages/sklearn/metrics/classification.py:1437: UndefinedMetricWarning: Precision and F-score are ill-defined and being set to 0.0 in labels with no predicted samples.\n",
      "  'precision', 'predicted', average, warn_for)\n"
     ]
    },
    {
     "name": "stdout",
     "output_type": "stream",
     "text": [
      "              precision    recall  f1-score   support\n",
      "\n",
      "  background       0.00      0.00      0.00      4296\n",
      "      signal       0.50      1.00      0.66      4247\n",
      "\n",
      "    accuracy                           0.50      8543\n",
      "   macro avg       0.25      0.50      0.33      8543\n",
      "weighted avg       0.25      0.50      0.33      8543\n",
      "\n",
      "Area under ROC curve: 0.3852\n",
      "On training sample:\n"
     ]
    },
    {
     "name": "stderr",
     "output_type": "stream",
     "text": [
      "/cvmfs/sft.cern.ch/lcg/views/LCG_96python3/x86_64-centos7-gcc8-opt/lib/python3.6/site-packages/sklearn/metrics/classification.py:1437: UndefinedMetricWarning: Precision and F-score are ill-defined and being set to 0.0 in labels with no predicted samples.\n",
      "  'precision', 'predicted', average, warn_for)\n"
     ]
    },
    {
     "name": "stdout",
     "output_type": "stream",
     "text": [
      "              precision    recall  f1-score   support\n",
      "\n",
      "  background       0.00      0.00      0.00      8647\n",
      "      signal       0.50      1.00      0.67      8696\n",
      "\n",
      "    accuracy                           0.50     17343\n",
      "   macro avg       0.25      0.50      0.33     17343\n",
      "weighted avg       0.25      0.50      0.33     17343\n",
      "\n",
      "Area under ROC curve: 0.5586\n"
     ]
    }
   ],
   "source": [
    "print(\"On testing sample:\")\n",
    "y_predicted = bdt.predict(X_test)\n",
    "print(classification_report(y_test, y_predicted, target_names=[\"background\", \"signal\"]))\n",
    "print(\"Area under ROC curve: %.4f\"%(roc_auc_score(y_test, bdt.decision_function(X_test))))\n",
    "\n",
    "print(\"On training sample:\")\n",
    "y_predicted = bdt.predict(X_train)\n",
    "print(classification_report(y_train, y_predicted, target_names=[\"background\", \"signal\"]))\n",
    "print(\"Area under ROC curve: %.4f\"%(roc_auc_score(y_train, bdt.decision_function(X_train))))\n"
   ]
  },
  {
   "cell_type": "markdown",
   "metadata": {},
   "source": [
    "**ROC curve**"
   ]
  },
  {
   "cell_type": "code",
   "execution_count": 137,
   "metadata": {},
   "outputs": [
    {
     "name": "stdout",
     "output_type": "stream",
     "text": [
      "ROC curve on testing sample:\n"
     ]
    },
    {
     "data": {
      "image/png": "[encoded data removed]",
      "text/plain": [
       "<Figure size 432x288 with 1 Axes>"
      ]
     },
     "metadata": {
      "needs_background": "light"
     },
     "output_type": "display_data"
    },
    {
     "data": {
      "text/plain": [
       "<Figure size 432x288 with 0 Axes>"
      ]
     },
     "metadata": {},
     "output_type": "display_data"
    }
   ],
   "source": [
    "print(\"ROC curve on testing sample:\")\n",
    "from sklearn.metrics import roc_curve, auc\n",
    "\n",
    "decisions = bdt.decision_function(X_test)\n",
    "# Compute ROC curve and area under the curve\n",
    "fpr, tpr, thresholds = roc_curve(y_test, decisions)\n",
    "roc_auc = auc(fpr, tpr)\n",
    "\n",
    "plt.plot(fpr, tpr, lw=1, label='ROC (area = %0.2f)'%(roc_auc))\n",
    "\n",
    "plt.plot([0, 1], [0, 1], '--', color=(0.6, 0.6, 0.6), label='Diag')\n",
    "plt.xlim([-0.05, 1.05])\n",
    "plt.ylim([-0.05, 1.05])\n",
    "plt.xlabel('False Positive Rate')\n",
    "plt.ylabel('True Positive Rate')\n",
    "plt.title('Receiver operating characteristic')\n",
    "plt.legend(loc=\"lower right\")\n",
    "plt.grid()\n",
    "plt.show()\n",
    "plt.savefig('roc.png')"
   ]
  },
  {
   "cell_type": "markdown",
   "metadata": {},
   "source": [
    "**BDT learning curve**"
   ]
  },
  {
   "cell_type": "code",
   "execution_count": 139,
   "metadata": {},
   "outputs": [
    {
     "name": "stdout",
     "output_type": "stream",
     "text": [
      "{'algorithm': 'SAMME', 'base_estimator__class_weight': None, 'base_estimator__criterion': 'gini', 'base_estimator__max_depth': 4, 'base_estimator__max_features': None, 'base_estimator__max_leaf_nodes': None, 'base_estimator__min_impurity_decrease': 0.0, 'base_estimator__min_impurity_split': None, 'base_estimator__min_samples_leaf': 0.05, 'base_estimator__min_samples_split': 2, 'base_estimator__min_weight_fraction_leaf': 0.0, 'base_estimator__presort': False, 'base_estimator__random_state': True, 'base_estimator__splitter': 'best', 'base_estimator': DecisionTreeClassifier(class_weight=None, criterion='gini', max_depth=4,\n",
      "                       max_features=None, max_leaf_nodes=None,\n",
      "                       min_impurity_decrease=0.0, min_impurity_split=None,\n",
      "                       min_samples_leaf=0.05, min_samples_split=2,\n",
      "                       min_weight_fraction_leaf=0.0, presort=False,\n",
      "                       random_state=True, splitter='best'), 'learning_rate': 0.5, 'n_estimators': 500, 'random_state': None}\n"
     ]
    },
    {
     "data": {
      "image/png": "[encoded data removed]",
      "text/plain": [
       "<Figure size 432x288 with 1 Axes>"
      ]
     },
     "metadata": {
      "needs_background": "light"
     },
     "output_type": "display_data"
    },
    {
     "data": {
      "text/plain": [
       "<Figure size 432x288 with 0 Axes>"
      ]
     },
     "metadata": {},
     "output_type": "display_data"
    }
   ],
   "source": [
    "print(bdt.get_params())\n",
    "\n",
    "train_predictions = bdt.staged_predict(X_train)\n",
    "test_predictions = bdt.staged_predict(X_test)\n",
    "\n",
    "scores_test = []\n",
    "scores_train = []\n",
    "for i in test_predictions:\n",
    "    scores_test.append(accuracy_score(i,y_test))\n",
    "for i in train_predictions:\n",
    "    scores_train.append(accuracy_score(i,y_train))\n",
    "\n",
    "plt.figure()\n",
    "plt.title(\"learning curves\")\n",
    "plt.xlabel(\"Training iterations\")\n",
    "plt.ylabel(\"accuracy\")\n",
    "plt.grid()\n",
    "plt.plot(range(0,len(scores_train),1), scores_train, 'o-', color=\"r\",label=\"Training accuracy\")\n",
    "plt.plot(range(0,len(scores_test),1), scores_test, 'o-', color=\"g\",label=\"Testing accuracy\")\n",
    "plt.legend(loc=\"best\")\n",
    "plt.show()\n",
    "plt.savefig('learning_curve.png')"
   ]
  },
  {
   "cell_type": "markdown",
   "metadata": {},
   "source": [
    "**Overtraining Check**"
   ]
  },
  {
   "cell_type": "code",
   "execution_count": 140,
   "metadata": {},
   "outputs": [
    {
     "data": {
      "image/png": "[encoded data removed]",
      "text/plain": [
       "<Figure size 432x288 with 1 Axes>"
      ]
     },
     "metadata": {
      "needs_background": "light"
     },
     "output_type": "display_data"
    },
    {
     "data": {
      "text/plain": [
       "<Figure size 432x288 with 0 Axes>"
      ]
     },
     "metadata": {},
     "output_type": "display_data"
    }
   ],
   "source": [
    "def compare_train_test(clf, X_train, y_train, X_test, y_test, bins=30):\n",
    "    decisions = []\n",
    "    for X,y in ((X_train, y_train), (X_test, y_test)):\n",
    "        d1 = clf.decision_function(X[y>0.5]).ravel()\n",
    "        d2 = clf.decision_function(X[y<0.5]).ravel()\n",
    "        decisions += [d1, d2]\n",
    "\n",
    "    low = min(np.min(d) for d in decisions)\n",
    "    high = max(np.max(d) for d in decisions)\n",
    "    low_high = (low,high)\n",
    "\n",
    "    plt.hist(decisions[0],\n",
    "             color='r', alpha=0.5, range=low_high, bins=bins,\n",
    "             histtype='stepfilled', density=True,\n",
    "             label='S (train)')\n",
    "    plt.hist(decisions[1],\n",
    "             color='b', alpha=0.5, range=low_high, bins=bins,\n",
    "             histtype='stepfilled', density=True,\n",
    "             label='B (train)')\n",
    "\n",
    "    hist, bins = np.histogram(decisions[2],\n",
    "                              bins=bins, range=low_high, density=True)\n",
    "    scale = len(decisions[2]) / sum(hist)\n",
    "    err = np.sqrt(hist * scale) / scale\n",
    "\n",
    "    width = (bins[1] - bins[0])\n",
    "    center = (bins[:-1] + bins[1:]) / 2\n",
    "    plt.errorbar(center, hist, yerr=err, fmt='o', c='r', label='S (test)')\n",
    "\n",
    "    hist, bins = np.histogram(decisions[3],\n",
    "                              bins=bins, range=low_high, density=True)\n",
    "    scale = len(decisions[2]) / sum(hist)\n",
    "    err = np.sqrt(hist * scale) / scale\n",
    "\n",
    "    plt.errorbar(center, hist, yerr=err, fmt='o', c='b', label='B (test)')\n",
    "\n",
    "    plt.xlabel(\"BDT output\")\n",
    "    plt.ylabel(\"Arbitrary units\")\n",
    "    plt.legend(loc='best')\n",
    "    plt.show()\n",
    "    plt.savefig('bdt_dist.png')\n",
    "\n",
    "compare_train_test(bdt, X_train, y_train, X_test, y_test)"
   ]
  },
  {
   "cell_type": "markdown",
   "metadata": {},
   "source": [
    "**Correlation Plots**"
   ]
  },
  {
   "cell_type": "code",
   "execution_count": 141,
   "metadata": {},
   "outputs": [
    {
     "data": {
      "image/png": "[encoded data removed]",
      "text/plain": [
       "<Figure size 432x360 with 2 Axes>"
      ]
     },
     "metadata": {
      "needs_background": "light"
     },
     "output_type": "display_data"
    },
    {
     "data": {
      "image/png": "[encoded data removed]",
      "text/plain": [
       "<Figure size 432x360 with 2 Axes>"
      ]
     },
     "metadata": {
      "needs_background": "light"
     },
     "output_type": "display_data"
    }
   ],
   "source": [
    "import pandas.core.common as com\n",
    "from pandas.core.index import Index\n",
    "\n",
    "from pandas.plotting import scatter_matrix\n",
    "\n",
    "\n",
    "# Create a pandas DataFrame for our data\n",
    "# this provides many convenience functions\n",
    "# for exploring your dataset\n",
    "# need to reshape y so it is a 2D array with one column\n",
    "df = pd.DataFrame(np.hstack((X, y.reshape(y.shape[0], -1))),\n",
    "                  columns=branch_names+['y'])\n",
    "\n",
    "\n",
    "bg = df.y < 0.5\n",
    "sig = df.y > 0.5\n",
    "\n",
    "def correlations(data, extra_str, **kwds):\n",
    "    \"\"\"Calculate pairwise correlation between features.\n",
    "    \n",
    "    Extra arguments are passed on to DataFrame.corr()\n",
    "    \"\"\"\n",
    "    # simply call df.corr() to get a table of\n",
    "    # correlation values if you do not need\n",
    "    # the fancy plotting\n",
    "    corrmat = data.corr(**kwds)\n",
    "\n",
    "    fig, ax1 = plt.subplots(ncols=1, figsize=(6,5))\n",
    "    \n",
    "    opts = {'cmap': plt.get_cmap(\"RdBu\"),\n",
    "            'vmin': -1, 'vmax': +1}\n",
    "    heatmap1 = ax1.pcolor(corrmat, **opts)\n",
    "    plt.colorbar(heatmap1, ax=ax1)\n",
    "\n",
    "    ax1.set_title(\"Correlations_\"+extra_str)\n",
    "\n",
    "    labels = corrmat.columns.values\n",
    "    for ax in (ax1,):\n",
    "        # shift location of ticks to center of the bins\n",
    "        ax.set_xticks(np.arange(len(labels))+0.5, minor=False)\n",
    "        ax.set_yticks(np.arange(len(labels))+0.5, minor=False)\n",
    "        ax.set_xticklabels(labels, minor=False, ha='right', rotation=70)\n",
    "        ax.set_yticklabels(labels, minor=False)\n",
    "        \n",
    "    plt.tight_layout()\n",
    "    \n",
    "# remove the y column from the correlation matrix\n",
    "# after using it to select background and signal\n",
    "correlations(df[bg].drop('y', 1), 'bkg')\n",
    "correlations(df[sig].drop('y', 1), 'sig')"
   ]
  },
  {
   "cell_type": "markdown",
   "metadata": {},
   "source": [
    "**Pickle the output training data**"
   ]
  },
  {
   "cell_type": "code",
   "execution_count": 142,
   "metadata": {},
   "outputs": [],
   "source": [
    "pl.dump(bdt, open(\"BDTAdaBoost.pk\",\"wb\"))"
   ]
  },
  {
   "cell_type": "markdown",
   "metadata": {},
   "source": [
    "**Saving Classifier to Root Tree**"
   ]
  },
  {
   "cell_type": "code",
   "execution_count": 143,
   "metadata": {},
   "outputs": [],
   "source": [
    "y_predicted = bdt.decision_function(X)\n",
    "y_predicted.dtype = [('y', np.float64)]\n",
    "\n",
    "array2root(y_predicted, \"test-prediction.root\", \"BDToutput\")"
   ]
  },
  {
   "cell_type": "markdown",
   "metadata": {},
   "source": [
    "**Extra: load trained BDT and apply to input root data**"
   ]
  },
  {
   "cell_type": "code",
   "execution_count": null,
   "metadata": {},
   "outputs": [],
   "source": [
    "branchlist=branch_names\n",
    "treename=\"tree\"\n",
    "infilename='./datahist.root'\n",
    "outfilename='./datahist_newMVA.root'\n",
    "cutselection=''\n",
    "\n",
    "inputpicklefile=\"BDTAdaBoost.pk\"\n",
    "\n",
    "X_in = root2array(infilename, treename, branches=branchlist, selection=cutselection)\n",
    "bdt = pl.load(open(inputpicklefile,\"rb\"))\n",
    "BDT_out = bdt.decision_function(pd.DataFrame(X_in))\n",
    "BDT_out.dtype = [('BDToutput', np.float64)]\n",
    "array2root(MVA_out, outfilename, \"BDToutput\")"
   ]
  },
  {
   "cell_type": "code",
   "execution_count": null,
   "metadata": {},
   "outputs": [],
   "source": []
  }
 ],
 "metadata": {
  "kernelspec": {
   "display_name": "Python 3",
   "language": "python",
   "name": "python3"
  },
  "language_info": {
   "codemirror_mode": {
    "name": "ipython",
    "version": 3
   },
   "file_extension": ".py",
   "mimetype": "text/x-python",
   "name": "python",
   "nbconvert_exporter": "python",
   "pygments_lexer": "ipython3",
   "version": "3.6.5"
  }
 },
 "nbformat": 4,
 "nbformat_minor": 5
}
